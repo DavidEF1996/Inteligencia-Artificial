{
 "cells": [
  {
   "cell_type": "code",
   "execution_count": 23,
   "metadata": {},
   "outputs": [
    {
     "name": "stdout",
     "output_type": "stream",
     "text": [
      ". R . . \n",
      ". . . R \n",
      "R . . . \n",
      ". . R . \n",
      "\n",
      "\n",
      ". . R . \n",
      "R . . . \n",
      ". . . R \n",
      ". R . . \n",
      "\n",
      "\n",
      "Found 2 solutions.\n"
     ]
    }
   ],
   "source": [
    "class Reinas:\n",
    "   \n",
    "    def __init__(self, size):\n",
    "        # Store the puzzle (problem) size and the number of valid solutions\n",
    "        self.size = size\n",
    "        self.solutions = 0\n",
    "        self.solve()\n",
    "\n",
    "    def solve(self):\n",
    "        \n",
    "        positions = [-1] * self.size\n",
    "        self.put_queen(positions, 0)\n",
    "        print(\"Found\", self.solutions, \"solutions.\")\n",
    "\n",
    "    def put_queen(self, positions, target_row):\n",
    "     \n",
    "        if target_row == self.size:\n",
    "            self.show_full_board(positions)\n",
    "            self.solutions += 1\n",
    "        else:\n",
    "           \n",
    "            for column in range(self.size):\n",
    "               \n",
    "                if self.check_place(positions, target_row, column):\n",
    "                    positions[target_row] = column\n",
    "                    self.put_queen(positions, target_row + 1)\n",
    "\n",
    "\n",
    "    def check_place(self, positions, ocuppied_rows, column):\n",
    "   \n",
    "        for i in range(ocuppied_rows):\n",
    "            if positions[i] == column or \\\n",
    "                positions[i] - i == column - ocuppied_rows or \\\n",
    "                positions[i] + i == column + ocuppied_rows:\n",
    "\n",
    "                return False\n",
    "        return True\n",
    "\n",
    "    def show_full_board(self, positions):\n",
    "       \n",
    "        for row in range(self.size):\n",
    "            line = \"\"\n",
    "            for column in range(self.size):\n",
    "                if positions[row] == column:\n",
    "                    line += \"R \"\n",
    "                else:\n",
    "                    line += \". \"\n",
    "            print(line)\n",
    "        print(\"\\n\")\n",
    "\n",
    "   \n",
    "\n",
    "if __name__ == \"__main__\":\n",
    "    Reinas(4)\n"
   ]
  },
  {
   "cell_type": "code",
   "execution_count": null,
   "metadata": {},
   "outputs": [],
   "source": []
  },
  {
   "cell_type": "code",
   "execution_count": null,
   "metadata": {},
   "outputs": [],
   "source": []
  },
  {
   "cell_type": "code",
   "execution_count": null,
   "metadata": {},
   "outputs": [],
   "source": []
  }
 ],
 "metadata": {
  "kernelspec": {
   "display_name": "Python 3",
   "language": "python",
   "name": "python3"
  },
  "language_info": {
   "codemirror_mode": {
    "name": "ipython",
    "version": 3
   },
   "file_extension": ".py",
   "mimetype": "text/x-python",
   "name": "python",
   "nbconvert_exporter": "python",
   "pygments_lexer": "ipython3",
   "version": "3.7.6"
  }
 },
 "nbformat": 4,
 "nbformat_minor": 4
}
